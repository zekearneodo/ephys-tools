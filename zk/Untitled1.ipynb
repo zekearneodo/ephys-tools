{
 "metadata": {
  "name": "",
  "signature": "sha256:1867a15c9c2bf34d2b0b153d3365ed33355e31320490ecf8c3c31b9f60f70e51"
 },
 "nbformat": 3,
 "nbformat_minor": 0,
 "worksheets": [
  {
   "cells": [
    {
     "cell_type": "code",
     "collapsed": false,
     "input": [
      "import scipy.io as sio"
     ],
     "language": "python",
     "metadata": {},
     "outputs": []
    }
   ],
   "metadata": {}
  }
 ]
}