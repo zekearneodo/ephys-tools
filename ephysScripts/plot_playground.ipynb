{
 "cells": [
  {
   "cell_type": "code",
   "execution_count": 1,
   "metadata": {
    "collapsed": false
   },
   "outputs": [
    {
     "name": "stdout",
     "output_type": "stream",
     "text": [
      "Computer: server\n"
     ]
    }
   ],
   "source": [
    "%matplotlib inline\n",
    "import pdb\n",
    "import sys\n",
    "import pandas as pd\n",
    "import numpy as np\n",
    "import scipy.io as sio\n",
    "import matplotlib.pyplot as plt\n",
    "import matplotlib\n",
    "import scipy.signal as sg\n",
    "import math\n",
    "import scipy as sp\n",
    "import socket\n",
    "import os\n",
    "\n",
    "matplotlib.style.use('ggplot')\n",
    "\n",
    "comp_name=socket.gethostname()\n",
    "if  comp_name == 'Ezequiels-MacBook-Pro.local':\n",
    "    print 'Computer: ' + comp_name\n",
    "    sys.path.append('/Users/zeke/experiment/ephysDataManagement/ephysScripts')\n",
    "    experiment_folder = os.path.join('/Users','zeke','experiment')\n",
    "else:\n",
    "    print 'Computer: ' + 'server'\n",
    "    sys.path.append('/experiment/ephysDataManagement/ephysScripts')\n",
    "    experiment_folder = os.path.join('/','experiment')\n",
    "    \n",
    "import unitToolsv2\n",
    "from data_handling import ephys_names as en\n",
    "from data_handling.basic_plot import decim, plot_raster\n",
    "from data_handling import data_load as dl"
   ]
  },
  {
   "cell_type": "code",
   "execution_count": 2,
   "metadata": {
    "collapsed": true
   },
   "outputs": [],
   "source": [
    "mouse = 'ZKawakeM72'\n",
    "sess  = 13\n",
    "rec   = 'e'\n",
    "fn = en.file_names(mouse,sess,rec,root=experiment_folder)"
   ]
  },
  {
   "cell_type": "code",
   "execution_count": 3,
   "metadata": {
    "collapsed": false
   },
   "outputs": [
    {
     "name": "stdout",
     "output_type": "stream",
     "text": [
      "['ZKawakeM72_013_f_010', 'ZKawakeM72_013_e_010']\n"
     ]
    }
   ],
   "source": [
    "mat_file = os.path.join(fn.fold_exp_data,'ZKawakeM72_013_010_cell.mat')\n",
    "r=dl.load_cell(mat_file, as_dict=True)\n",
    "print r.keys()"
   ]
  },
  {
   "cell_type": "code",
   "execution_count": 24,
   "metadata": {
    "collapsed": false
   },
   "outputs": [
    {
     "ename": "AttributeError",
     "evalue": "'mat_struct' object has no attribute 'sniffPhase'",
     "output_type": "error",
     "traceback": [
      "\u001b[1;31m---------------------------------------------------------------------------\u001b[0m",
      "\u001b[1;31mAttributeError\u001b[0m                            Traceback (most recent call last)",
      "\u001b[1;32m<ipython-input-24-01a5655f4c8f>\u001b[0m in \u001b[0;36m<module>\u001b[1;34m()\u001b[0m\n\u001b[0;32m      2\u001b[0m \u001b[0mmat_file\u001b[0m \u001b[1;33m=\u001b[0m \u001b[0mos\u001b[0m\u001b[1;33m.\u001b[0m\u001b[0mpath\u001b[0m\u001b[1;33m.\u001b[0m\u001b[0mjoin\u001b[0m\u001b[1;33m(\u001b[0m\u001b[0mfn\u001b[0m\u001b[1;33m.\u001b[0m\u001b[0mfold_exp_data\u001b[0m\u001b[1;33m,\u001b[0m\u001b[1;34m'ZKawakeM72_013_e_trialsBase.mat'\u001b[0m\u001b[1;33m)\u001b[0m\u001b[1;33m\u001b[0m\u001b[0m\n\u001b[0;32m      3\u001b[0m \u001b[1;33m\u001b[0m\u001b[0m\n\u001b[1;32m----> 4\u001b[1;33m \u001b[0msniffs\u001b[0m\u001b[1;33m=\u001b[0m \u001b[0mdl\u001b[0m\u001b[1;33m.\u001b[0m\u001b[0mload_sniff_base\u001b[0m\u001b[1;33m(\u001b[0m\u001b[0mmat_file\u001b[0m\u001b[1;33m,\u001b[0m \u001b[0mas_dict\u001b[0m\u001b[1;33m=\u001b[0m\u001b[0mFalse\u001b[0m\u001b[1;33m)\u001b[0m\u001b[1;33m\u001b[0m\u001b[0m\n\u001b[0m\u001b[0;32m      5\u001b[0m \u001b[1;31m#plot all the baseline sniffs\u001b[0m\u001b[1;33m\u001b[0m\u001b[1;33m\u001b[0m\u001b[0m\n\u001b[0;32m      6\u001b[0m \u001b[0msnif_plot\u001b[0m \u001b[1;33m=\u001b[0m \u001b[0mplt\u001b[0m\u001b[1;33m.\u001b[0m\u001b[0mfigure\u001b[0m\u001b[1;33m(\u001b[0m\u001b[1;33m)\u001b[0m\u001b[1;33m\u001b[0m\u001b[0m\n",
      "\u001b[1;32m/experiment/ephysDataManagement/ephysScripts/data_handling/data_load.py\u001b[0m in \u001b[0;36mload_sniff_base\u001b[1;34m(mat_file_path, as_dict)\u001b[0m\n\u001b[0;32m     39\u001b[0m         \u001b[0mtb\u001b[0m\u001b[1;33m=\u001b[0m\u001b[0mtrialsBase\u001b[0m\u001b[1;33m[\u001b[0m\u001b[0mi\u001b[0m\u001b[1;33m]\u001b[0m\u001b[1;33m\u001b[0m\u001b[0m\n\u001b[0;32m     40\u001b[0m         \u001b[0msniff_flow\u001b[0m\u001b[1;33m[\u001b[0m\u001b[1;33m:\u001b[0m\u001b[1;33m,\u001b[0m\u001b[0mi\u001b[0m\u001b[1;33m]\u001b[0m  \u001b[1;33m=\u001b[0m \u001b[0mtb\u001b[0m\u001b[1;33m.\u001b[0m\u001b[0msniffFlow\u001b[0m\u001b[1;33m\u001b[0m\u001b[0m\n\u001b[1;32m---> 41\u001b[1;33m         \u001b[0msniff_phase\u001b[0m\u001b[1;33m[\u001b[0m\u001b[1;33m:\u001b[0m\u001b[1;33m,\u001b[0m\u001b[0mi\u001b[0m\u001b[1;33m]\u001b[0m \u001b[1;33m=\u001b[0m \u001b[0mtb\u001b[0m\u001b[1;33m.\u001b[0m\u001b[0msniffPhase\u001b[0m\u001b[1;33m[\u001b[0m\u001b[1;36m0\u001b[0m\u001b[1;33m:\u001b[0m\u001b[1;33m(\u001b[0m\u001b[0mnum_tpoints\u001b[0m\u001b[1;33m)\u001b[0m\u001b[1;33m]\u001b[0m\u001b[1;33m\u001b[0m\u001b[0m\n\u001b[0m\u001b[0;32m     42\u001b[0m         \u001b[0msniff_start\u001b[0m\u001b[1;33m[\u001b[0m\u001b[0mi\u001b[0m\u001b[1;33m]\u001b[0m \u001b[1;33m=\u001b[0m \u001b[0mtb\u001b[0m\u001b[1;33m.\u001b[0m\u001b[0mstart\u001b[0m\u001b[1;33m\u001b[0m\u001b[0m\n\u001b[0;32m     43\u001b[0m \u001b[1;33m\u001b[0m\u001b[0m\n",
      "\u001b[1;31mAttributeError\u001b[0m: 'mat_struct' object has no attribute 'sniffPhase'"
     ]
    }
   ],
   "source": [
    "#Load a baseline sniff file\n",
    "mat_file = os.path.join(fn.fold_exp_data,'ZKawakeM72_013_e_trialsBase.mat')\n",
    "\n",
    "sniffs= dl.load_sniff_base(mat_file, as_dict=False)\n",
    "#plot all the baseline sniffs\n",
    "snif_plot = plt.figure()\n",
    "all_ax = snif_plot.add_axes([0, 0, 1, .4])\n",
    "avg_ax = snif_plot.add_axes([0, .5, 1, .4])\n",
    "\n",
    "t=np.arange(0, 450, 1)\n",
    "avg_line = avg_ax.plot(np.average(-sniffs['flow'][250:750,:],axis=1))\n",
    "lines=all_ax.plot(-sniffs['flow'][250:750,:50])"
   ]
  },
  {
   "cell_type": "code",
   "execution_count": 29,
   "metadata": {
    "collapsed": false
   },
   "outputs": [
    {
     "data": {
      "text/plain": [
       "'trialsBase'"
      ]
     },
     "execution_count": 29,
     "metadata": {},
     "output_type": "execute_result"
    }
   ],
   "source": [
    "os.path.split(mat_file)[-1].split('.')[0].split('_')[-1]"
   ]
  },
  {
   "cell_type": "code",
   "execution_count": 19,
   "metadata": {
    "collapsed": false
   },
   "outputs": [
    {
     "ename": "AssertionError",
     "evalue": "",
     "output_type": "error",
     "traceback": [
      "\u001b[1;31m---------------------------------------------------------------------------\u001b[0m",
      "\u001b[1;31mAssertionError\u001b[0m                            Traceback (most recent call last)",
      "\u001b[1;32m<ipython-input-19-a8b837c985ed>\u001b[0m in \u001b[0;36m<module>\u001b[1;34m()\u001b[0m\n\u001b[0;32m      3\u001b[0m \u001b[0mmat_file\u001b[0m \u001b[1;33m=\u001b[0m \u001b[0mos\u001b[0m\u001b[1;33m.\u001b[0m\u001b[0mpath\u001b[0m\u001b[1;33m.\u001b[0m\u001b[0mjoin\u001b[0m\u001b[1;33m(\u001b[0m\u001b[0mfn\u001b[0m\u001b[1;33m.\u001b[0m\u001b[0mfold_exp_data\u001b[0m\u001b[1;33m,\u001b[0m\u001b[1;34m'ZKawakeM72_010_001_spikesBase.mat'\u001b[0m\u001b[1;33m)\u001b[0m\u001b[1;33m\u001b[0m\u001b[0m\n\u001b[0;32m      4\u001b[0m \u001b[1;33m\u001b[0m\u001b[0m\n\u001b[1;32m----> 5\u001b[1;33m \u001b[0mbases\u001b[0m \u001b[1;33m=\u001b[0m \u001b[0mdl\u001b[0m\u001b[1;33m.\u001b[0m\u001b[0mload_baseline\u001b[0m\u001b[1;33m(\u001b[0m\u001b[0mmat_file\u001b[0m\u001b[1;33m)\u001b[0m\u001b[1;33m\u001b[0m\u001b[0m\n\u001b[0m\u001b[0;32m      6\u001b[0m \u001b[1;32mprint\u001b[0m \u001b[0mbases\u001b[0m\u001b[1;33m.\u001b[0m\u001b[0mkeys\u001b[0m\u001b[1;33m(\u001b[0m\u001b[1;33m)\u001b[0m\u001b[1;33m\u001b[0m\u001b[0m\n\u001b[0;32m      7\u001b[0m \u001b[0mspikes\u001b[0m \u001b[1;33m=\u001b[0m \u001b[1;33m[\u001b[0m\u001b[0mbases\u001b[0m\u001b[1;33m[\u001b[0m\u001b[0ma_key\u001b[0m\u001b[1;33m]\u001b[0m \u001b[1;32mfor\u001b[0m \u001b[0ma_key\u001b[0m \u001b[1;32min\u001b[0m \u001b[0mbases\u001b[0m\u001b[1;33m.\u001b[0m\u001b[0mkeys\u001b[0m\u001b[1;33m(\u001b[0m\u001b[1;33m)\u001b[0m\u001b[1;33m]\u001b[0m\u001b[1;33m\u001b[0m\u001b[0m\n",
      "\u001b[1;32m/experiment/ephysDataManagement/ephysScripts/data_handling/data_load.py\u001b[0m in \u001b[0;36mload_baseline\u001b[1;34m(mat_file_path, as_dict)\u001b[0m\n\u001b[0;32m     87\u001b[0m \u001b[1;33m\u001b[0m\u001b[0m\n\u001b[0;32m     88\u001b[0m \u001b[1;31m#Load a baseline raster file\u001b[0m\u001b[1;33m\u001b[0m\u001b[1;33m\u001b[0m\u001b[0m\n\u001b[1;32m---> 89\u001b[1;33m \u001b[1;32mdef\u001b[0m \u001b[0mload_baseline\u001b[0m\u001b[1;33m(\u001b[0m\u001b[0mmat_file_path\u001b[0m\u001b[1;33m,\u001b[0m \u001b[0mas_dict\u001b[0m \u001b[1;33m=\u001b[0m \u001b[0mTrue\u001b[0m\u001b[1;33m)\u001b[0m\u001b[1;33m:\u001b[0m\u001b[1;33m\u001b[0m\u001b[0m\n\u001b[0m\u001b[0;32m     90\u001b[0m \u001b[1;33m\u001b[0m\u001b[0m\n\u001b[0;32m     91\u001b[0m     \u001b[1;32massert\u001b[0m\u001b[1;33m(\u001b[0m\u001b[0mos\u001b[0m\u001b[1;33m.\u001b[0m\u001b[0mpath\u001b[0m\u001b[1;33m.\u001b[0m\u001b[0misfile\u001b[0m\u001b[1;33m(\u001b[0m\u001b[0mmat_file_path\u001b[0m\u001b[1;33m)\u001b[0m\u001b[1;33m)\u001b[0m\u001b[1;33m\u001b[0m\u001b[0m\n",
      "\u001b[1;31mAssertionError\u001b[0m: "
     ]
    }
   ],
   "source": [
    "#load the spikes baseline raster file\n",
    "'ZKawakeM72_010_001_cell.mat'\n",
    "mat_file = os.path.join(fn.fold_exp_data,'ZKawakeM72_010_001_spikesBase.mat')\n",
    "\n",
    "bases = dl.load_baseline(mat_file)\n",
    "print bases.keys()\n",
    "spikes = [bases[a_key] for a_key in bases.keys()]\n",
    "\n",
    "#spikes = load_baseline(mat_file, as_dict = False)\n",
    "#print spikes\n",
    "#print spikes[0]['u_id']\n",
    "#print spikes[0]['id']\n",
    "\n",
    "sr_spikes = spikes[0]['spikes']\n",
    "sr_t0 = spikes[0]['t_0']\n",
    "\n",
    "#plot all the baseline sniffs\n",
    "sr_plot = plt.figure()\n",
    "ras_ax  = sr_plot.add_axes([0, 0, 1, .4])\n",
    "hist_ax = sr_plot.add_axes([0, .5, 1, .4])\n",
    "t0 = 500\n",
    "t1 = 0\n",
    "t2= 2500\n",
    "bin_size=10\n",
    "\n",
    "#plot the raster\n",
    "lines,_ = plot_raster(sr_spikes,t0=t0,t1=t1,t2=t2,ax=ras_ax)\n",
    "ras_ax.set_xlim(-500,2500)\n",
    "\n",
    "#the psth\n",
    "hist_line, hist_ax = plot_raster(sr_spikes,t0=t0, t1=t1,t2=t2, bin_size=15, ax=hist_ax)\n",
    "#hist_ax.set_ylim(0.9,1.1)\n",
    "hist_ax.set_xlim(-500,2500)"
   ]
  },
  {
   "cell_type": "code",
   "execution_count": 4,
   "metadata": {
    "collapsed": false
   },
   "outputs": [
    {
     "name": "stdout",
     "output_type": "stream",
     "text": [
      "['ZKawakeM72_013_f_010', 'ZKawakeM72_013_e_010']\n",
      "['/experiment/export_data/ZKawakeM72_013_f_trial.mat', '/experiment/export_data/ZKawakeM72_013_e_trial.mat']\n",
      "/experiment/export_data/ZKawakeM72_013_f_trial.mat\n",
      "/experiment/export_data/ZKawakeM72_013_e_trial.mat\n",
      "['/experiment/export_data/ZKawakeM72_013_f_noStimSniff.mat', '/experiment/export_data/ZKawakeM72_013_e_noStimSniff.mat']\n",
      "/experiment/export_data/ZKawakeM72_013_f_noStimSniff.mat\n"
     ]
    },
    {
     "ename": "ValueError",
     "evalue": "dictionary update sequence element #0 has length 4; 2 is required",
     "output_type": "error",
     "traceback": [
      "\u001b[1;31m---------------------------------------------------------------------------\u001b[0m",
      "\u001b[1;31mValueError\u001b[0m                                Traceback (most recent call last)",
      "\u001b[1;32m<ipython-input-4-14c228bd9854>\u001b[0m in \u001b[0;36m<module>\u001b[1;34m()\u001b[0m\n\u001b[0;32m      1\u001b[0m \u001b[1;31m# get all the cells\u001b[0m\u001b[1;33m\u001b[0m\u001b[1;33m\u001b[0m\u001b[0m\n\u001b[0;32m      2\u001b[0m \u001b[0mcells_path\u001b[0m \u001b[1;33m=\u001b[0m \u001b[0mfn\u001b[0m\u001b[1;33m.\u001b[0m\u001b[0mfold_exp_data\u001b[0m\u001b[1;33m\u001b[0m\u001b[0m\n\u001b[1;32m----> 3\u001b[1;33m \u001b[0mrecords\u001b[0m \u001b[1;33m=\u001b[0m \u001b[0mdl\u001b[0m\u001b[1;33m.\u001b[0m\u001b[0mload_cells\u001b[0m\u001b[1;33m(\u001b[0m\u001b[0mcells_path\u001b[0m\u001b[1;33m)\u001b[0m\u001b[1;33m\u001b[0m\u001b[0m\n\u001b[0m",
      "\u001b[1;32m/experiment/ephysDataManagement/ephysScripts/data_handling/data_load.py\u001b[0m in \u001b[0;36mload_cells\u001b[1;34m(cells_path)\u001b[0m\n\u001b[0;32m    308\u001b[0m                      for a_rec in unit_recs.itervalues() if a_rec['rec_id'] not in load_dict]\n\u001b[0;32m    309\u001b[0m             \u001b[1;32mprint\u001b[0m \u001b[0mpaths\u001b[0m\u001b[1;33m\u001b[0m\u001b[0m\n\u001b[1;32m--> 310\u001b[1;33m             \u001b[1;33m[\u001b[0m\u001b[0mload_dict\u001b[0m\u001b[1;33m.\u001b[0m\u001b[0mupdate\u001b[0m\u001b[1;33m(\u001b[0m\u001b[0mload_function\u001b[0m\u001b[1;33m(\u001b[0m\u001b[0ma_path\u001b[0m\u001b[1;33m)\u001b[0m\u001b[1;33m)\u001b[0m \u001b[1;32mfor\u001b[0m \u001b[0ma_path\u001b[0m \u001b[1;32min\u001b[0m \u001b[0mpaths\u001b[0m\u001b[1;33m]\u001b[0m\u001b[1;33m\u001b[0m\u001b[0m\n\u001b[0m\u001b[0;32m    311\u001b[0m \u001b[1;33m\u001b[0m\u001b[0m\n\u001b[0;32m    312\u001b[0m     records = {'responses':  responses,\n",
      "\u001b[1;31mValueError\u001b[0m: dictionary update sequence element #0 has length 4; 2 is required"
     ]
    }
   ],
   "source": [
    "# get all the cells\n",
    "cells_path = fn.fold_exp_data\n",
    "records = dl.load_cells(cells_path)"
   ]
  },
  {
   "cell_type": "code",
   "execution_count": 5,
   "metadata": {
    "collapsed": true
   },
   "outputs": [
    {
     "data": {
      "text/plain": [
       "['KPawakeM72_016_a_023',\n",
       " 'ZKawakeM72_009_a_005',\n",
       " 'KPawakeM72_016_a_021',\n",
       " 'KPawakeM72_016_a_020',\n",
       " 'ZKawakeM72_009_a_001',\n",
       " 'KPawakeM72_016_a_025',\n",
       " 'ZKawakeM72_009_a_002',\n",
       " 'KPawakeM72_021_b_023',\n",
       " 'KPawakeM72_021_b_026',\n",
       " 'KPawakeM72_021_b_028',\n",
       " 'KPawakeM72_021_b_029',\n",
       " 'ZKawakeM72_010_f_004',\n",
       " 'ZKawakeM72_009_a_003',\n",
       " 'KPawakeM72_019_a_001',\n",
       " 'ZKawakeM72_022_e_003',\n",
       " 'ZKawakeM72_020_f_013',\n",
       " 'KPawakeM72_016_a_018',\n",
       " 'KPawakeM72_016_a_019',\n",
       " 'KPawakeM72_016_a_016',\n",
       " 'KPawakeM72_016_a_017',\n",
       " 'ZKawakeM72_004_e_010',\n",
       " 'KPawakeM72_016_a_012',\n",
       " 'KPawakeM72_016_a_010',\n",
       " 'KPawakeM72_016_a_011',\n",
       " 'ZKawakeM72_012_a_012',\n",
       " 'ZKawakeM72_012_a_013',\n",
       " 'ZKawakeM72_012_a_010',\n",
       " 'ZKawakeM72_012_a_011',\n",
       " 'ZKawakeM72_027_d_004',\n",
       " 'ZKawakeM72_004_g_015',\n",
       " 'ZKawakeM72_004_d_007',\n",
       " 'ZKawakeM72_004_d_006',\n",
       " 'ZKawakeM72_004_d_008',\n",
       " 'KPawakeM72_021_a_013',\n",
       " 'ZKawakeM72_004_i_001',\n",
       " 'KPawakeM72_016_a_009',\n",
       " 'KPawakeM72_016_a_008',\n",
       " 'KPawakeM72_019_b_021',\n",
       " 'KPawakeM72_019_b_020',\n",
       " 'ZKawakeM72_020_g_019',\n",
       " 'ZKawakeM72_027_d_003',\n",
       " 'KPawakeM72_016_a_001',\n",
       " 'ZKawakeM72_011_b_010',\n",
       " 'ZKawakeM72_020_g_018',\n",
       " 'KPawakeM72_016_a_005',\n",
       " 'KPawakeM72_016_a_007',\n",
       " 'KPawakeM72_016_a_006',\n",
       " 'ZKawakeM72_012_a_001',\n",
       " 'ZKawakeM72_020_g_017',\n",
       " 'ZKawakeM72_012_a_003',\n",
       " 'ZKawakeM72_012_a_002',\n",
       " 'ZKawakeM72_012_a_005',\n",
       " 'ZKawakeM72_012_a_004',\n",
       " 'ZKawakeM72_012_a_007',\n",
       " 'ZKawakeM72_012_a_006',\n",
       " 'ZKawakeM72_012_a_009',\n",
       " 'ZKawakeM72_012_a_008',\n",
       " 'ZKawakeM72_020_d_010',\n",
       " 'ZKawakeM72_027_e_004',\n",
       " 'ZKawakeM72_027_e_006',\n",
       " 'ZKawakeM72_004_h_018',\n",
       " 'ZKawakeM72_004_h_019',\n",
       " 'ZKawakeM72_022_d_001',\n",
       " 'ZKawakeM72_004_h_017',\n",
       " 'KPawakeM72_019_a_007',\n",
       " 'ZKawakeM72_020_c_024',\n",
       " 'ZKawakeM72_022_d_004',\n",
       " 'ZKawakeM72_004_h_011',\n",
       " 'ZKawakeM72_022_d_002',\n",
       " 'ZKawakeM72_011_b_005',\n",
       " 'ZKawakeM72_004_c_004',\n",
       " 'ZKawakeM72_004_c_005',\n",
       " 'ZKawakeM72_004_c_003',\n",
       " 'KPawakeM72_014_a_001',\n",
       " 'KPawakeM72_014_a_007',\n",
       " 'ZKawakeM72_020_g_001',\n",
       " 'KPawakeM72_014_a_004',\n",
       " 'KPawakeM72_019_d_010',\n",
       " 'KPawakeM72_019_d_011',\n",
       " 'ZKawakeM72_020_d_001',\n",
       " 'KPawakeM72_019_d_013',\n",
       " 'KPawakeM72_019_d_014',\n",
       " 'KPawakeM72_019_d_015',\n",
       " 'KPawakeM72_019_d_018',\n",
       " 'ZKawakeM72_020_d_009',\n",
       " 'ZKawakeM72_020_c_008',\n",
       " 'ZKawakeM72_020_e_001',\n",
       " 'KPawakeM72_014_c_012',\n",
       " 'ZKawakeM72_020_c_001',\n",
       " 'ZKawakeM72_020_c_002',\n",
       " 'ZKawakeM72_020_c_003',\n",
       " 'ZKawakeM72_020_c_004',\n",
       " 'ZKawakeM72_010_b_001',\n",
       " 'ZKawakeM72_020_c_006',\n",
       " 'ZKawakeM72_010_b_003',\n",
       " 'ZKawakeM72_010_b_002',\n",
       " 'ZKawakeM72_027_d_005',\n",
       " 'KPawakeM72_019_b_001',\n",
       " 'KPawakeM72_019_b_003',\n",
       " 'KPawakeM72_019_b_002',\n",
       " 'KPawakeM72_019_b_005',\n",
       " 'KPawakeM72_019_b_004',\n",
       " 'KPawakeM72_019_b_007',\n",
       " 'KPawakeM72_019_b_006',\n",
       " 'KPawakeM72_021_a_010',\n",
       " 'KPawakeM72_021_a_011',\n",
       " 'ZKawakeM72_004_g_016',\n",
       " 'KPawakeM72_021_a_014',\n",
       " 'KPawakeM72_019_a_002',\n",
       " 'KPawakeM72_021_a_016',\n",
       " 'KPawakeM72_021_a_017',\n",
       " 'KPawakeM72_021_a_018',\n",
       " 'ZKawakeM72_020_g_016',\n",
       " 'ZKawakeM72_020_g_015',\n",
       " 'ZKawakeM72_021_a_002',\n",
       " 'KPawakeM72_019_d_002',\n",
       " 'KPawakeM72_019_d_007',\n",
       " 'ZKawakeM72_010_c_001',\n",
       " 'KPawakeM72_014_a_006',\n",
       " 'ZKawakeM72_013_f_010',\n",
       " 'KPawakeM72_019_a_018',\n",
       " 'KPawakeM72_019_a_011',\n",
       " 'KPawakeM72_019_a_010',\n",
       " 'KPawakeM72_019_a_013',\n",
       " 'ZKawakeM72_020_e_011',\n",
       " 'KPawakeM72_019_a_014',\n",
       " 'ZKawakeM72_020_e_013',\n",
       " 'ZKawakeM72_020_e_012',\n",
       " 'ZKawakeM72_020_c_026',\n",
       " 'KPawakeM72_817_f_001',\n",
       " 'ZKawakeM72_011_b_011',\n",
       " 'ZKawakeM72_020_c_022',\n",
       " 'ZKawakeM72_020_c_023',\n",
       " 'KPawakeM72_021_a_003',\n",
       " 'ZKawakeM72_023_b_002',\n",
       " 'KPawakeM72_021_a_001',\n",
       " 'ZKawakeM72_020_g_029',\n",
       " 'KPawakeM72_021_a_006',\n",
       " 'KPawakeM72_021_a_005',\n",
       " 'KPawakeM72_021_a_004',\n",
       " 'KPawakeM72_021_a_009',\n",
       " 'KPawakeM72_021_a_008',\n",
       " 'ZKawakeM72_020_g_027',\n",
       " 'ZKawakeM72_020_g_030',\n",
       " 'KPawakeM72_019_a_015',\n",
       " 'ZKawakeM72_004_i_002',\n",
       " 'ZKawakeM72_023_b_003',\n",
       " 'ZKawakeM72_013_e_011',\n",
       " 'ZKawakeM72_013_e_010',\n",
       " 'ZKawakeM72_023_b_004',\n",
       " 'ZKawakeM72_005_a_001',\n",
       " 'ZKawakeM72_011_a_003',\n",
       " 'ZKawakeM72_023_b_005',\n",
       " 'ZKawakeM72_011_a_006',\n",
       " 'ZKawakeM72_011_a_007',\n",
       " 'ZKawakeM72_011_a_004',\n",
       " 'ZKawakeM72_011_d_001',\n",
       " 'KPawakeM72_021_b_006',\n",
       " 'KPawakeM72_021_b_001',\n",
       " 'KPawakeM72_021_b_003',\n",
       " 'ZKawakeM72_020_c_025',\n",
       " 'ZKawakeM72_020_f_014',\n",
       " 'ZKawakeM72_004_c_012',\n",
       " 'KPawakeM72_817_e_004',\n",
       " 'ZKawakeM72_027_c_003',\n",
       " 'KPawakeM72_817_e_006',\n",
       " 'ZKawakeM72_004_a_025',\n",
       " 'KPawakeM72_817_e_001',\n",
       " 'KPawakeM72_817_e_002',\n",
       " 'KPawakeM72_817_e_003',\n",
       " 'ZKawakeM72_006_a_001',\n",
       " 'KPawakeM72_021_b_016',\n",
       " 'KPawakeM72_021_b_012',\n",
       " 'KPawakeM72_021_b_011',\n",
       " 'KPawakeM72_021_b_010',\n",
       " 'ZKawakeM72_027_a_001',\n",
       " 'ZKawakeM72_004_h_001',\n",
       " 'ZKawakeM72_004_f_011',\n",
       " 'KPawakeM72_021_b_030',\n",
       " 'KPawakeM72_014_b_017',\n",
       " 'ZKawakeM72_004_h_002',\n",
       " 'ZKawakeM72_020_g_031',\n",
       " 'ZKawakeM72_011_c_012',\n",
       " 'ZKawakeM72_020_g_033',\n",
       " 'ZKawakeM72_020_g_032',\n",
       " 'ZKawakeM72_004_f_014',\n",
       " 'ZKawakeM72_020_g_028',\n",
       " 'ZKawakeM72_004_i_022',\n",
       " 'ZKawakeM72_004_i_023',\n",
       " 'ZKawakeM72_004_i_020',\n",
       " 'ZKawakeM72_004_i_021',\n",
       " 'KPawakeM72_021_b_031',\n",
       " 'ZKawakeM72_020_c_007',\n",
       " 'ZKawakeM72_020_h_021',\n",
       " 'ZKawakeM72_020_h_020',\n",
       " 'KPawakeM72_014_b_012']"
      ]
     },
     "execution_count": 5,
     "metadata": {},
     "output_type": "execute_result"
    }
   ],
   "source": [
    "records['responses'].keys()"
   ]
  },
  {
   "cell_type": "code",
   "execution_count": 14,
   "metadata": {
    "collapsed": true
   },
   "outputs": [
    {
     "ename": "NameError",
     "evalue": "name 'records' is not defined",
     "output_type": "error",
     "traceback": [
      "\u001b[1;31m---------------------------------------------------------------------------\u001b[0m",
      "\u001b[1;31mNameError\u001b[0m                                 Traceback (most recent call last)",
      "\u001b[1;32m<ipython-input-14-a4e1f83bff09>\u001b[0m in \u001b[0;36m<module>\u001b[1;34m()\u001b[0m\n\u001b[1;32m----> 1\u001b[1;33m \u001b[1;32mprint\u001b[0m \u001b[0mrecords\u001b[0m\u001b[1;33m[\u001b[0m\u001b[1;36m5\u001b[0m\u001b[1;33m]\u001b[0m\u001b[1;33m[\u001b[0m\u001b[1;34m'meta'\u001b[0m\u001b[1;33m]\u001b[0m\u001b[1;33m[\u001b[0m\u001b[1;34m'id'\u001b[0m\u001b[1;33m]\u001b[0m\u001b[1;33m\u001b[0m\u001b[0m\n\u001b[0m\u001b[0;32m      2\u001b[0m \u001b[1;32mprint\u001b[0m \u001b[0mrecords\u001b[0m\u001b[1;33m[\u001b[0m\u001b[1;36m5\u001b[0m\u001b[1;33m]\u001b[0m\u001b[1;33m[\u001b[0m\u001b[1;34m'rec_id'\u001b[0m\u001b[1;33m]\u001b[0m\u001b[1;33m\u001b[0m\u001b[0m\n\u001b[0;32m      3\u001b[0m \u001b[1;31m#baselines.keys()\u001b[0m\u001b[1;33m\u001b[0m\u001b[1;33m\u001b[0m\u001b[0m\n\u001b[0;32m      4\u001b[0m \u001b[1;32mprint\u001b[0m \u001b[0mlen\u001b[0m\u001b[1;33m(\u001b[0m\u001b[0mrecords\u001b[0m\u001b[1;33m)\u001b[0m\u001b[1;33m\u001b[0m\u001b[0m\n\u001b[0;32m      5\u001b[0m \u001b[1;31m#records[4][0].keys()\u001b[0m\u001b[1;33m\u001b[0m\u001b[1;33m\u001b[0m\u001b[0m\n",
      "\u001b[1;31mNameError\u001b[0m: name 'records' is not defined"
     ]
    }
   ],
   "source": [
    "print records[5]['meta']['id']\n",
    "print records[5]['rec_id']\n",
    "#baselines.keys()\n",
    "print len(records)\n",
    "#records[4][0].keys()\n",
    "baselines[records[5]['meta']['id']].keys()\n",
    "\n",
    "unit_recs = records[5:8]\n",
    "print base_sniff.keys()\n",
    "print 'rec'\n",
    "#rec_trials.keys()\n",
    "print rec_trials[records[5]['rec_id']].keys()\n",
    "print base_sniff[records[5]['rec_id']].keys()"
   ]
  },
  {
   "cell_type": "code",
   "execution_count": 39,
   "metadata": {
    "collapsed": false
   },
   "outputs": [
    {
     "name": "stdout",
     "output_type": "stream",
     "text": [
      "<type 'numpy.ndarray'>\n"
     ]
    },
    {
     "data": {
      "text/plain": [
       "'ZKawakeM72_010_c'"
      ]
     },
     "execution_count": 39,
     "metadata": {},
     "output_type": "execute_result"
    }
   ],
   "source": [
    "u_f = unit_files[-4]\n",
    "#print u_f\n",
    "rec_file = os.path.join(fn.fold_exp_data,u_f)\n",
    "#records = load_cell(rec_file)\n",
    "#print sio.whosmat(mat_file)\n",
    "#print records\n",
    "\n",
    "cell_data = sio.loadmat(rec_file, struct_as_record=False, squeeze_me=True)\n",
    "\n",
    "records = []\n",
    "print type(cell_data['raster'])\n",
    "#print len(cell_data['raster'])\n",
    "#num_recs = len(cell_data['raster']) #num of recs the cell spans\n",
    "\n",
    "if type(cell_data['raster']) == np.ndarray:\n",
    "    for rec in  cell_data['raster']:\n",
    "        #print rec\n",
    "        record = get_rec(rec)\n",
    "        records.append(record)\n",
    "else:\n",
    "    records.append(get_rec(cell_data['raster']))\n",
    "    \n",
    "#records = load_cell(rec_file)\n",
    "\n",
    "#print one_cell['uid']\n",
    "#cell_data['raster'][0][1]['odors'].shape\n",
    "records[1]['rec_id']"
   ]
  },
  {
   "cell_type": "code",
   "execution_count": 183,
   "metadata": {
    "collapsed": false
   },
   "outputs": [
    {
     "name": "stdout",
     "output_type": "stream",
     "text": [
      "[('unit', (1, 1), 'struct')]\n"
     ]
    }
   ],
   "source": [
    "# Load a unit array\n",
    "# todo: complete\n",
    "mat_file = os.path.join(fn.fold_exp_data,'ZKawakeM72_027_e_spikes.mat')\n",
    "cell_data = sio.loadmat(mat_file, struct_as_record=False, squeeze_me=True)\n",
    "print sio.whosmat(mat_file)\n",
    "unit = cell_data['unit']\n",
    "unit.times\n",
    "u=np.array(unit.times,dtype=np.float)\n",
    "unit = load_unit(mat_file)\n",
    "unit.keys()\n",
    "unit['ZKawakeM72_027_e_004']['times']\n"
   ]
  },
  {
   "cell_type": "code",
   "execution_count": 6,
   "metadata": {
    "collapsed": false
   },
   "outputs": [
    {
     "name": "stdout",
     "output_type": "stream",
     "text": [
      "ZKawakeM72_020_c\n",
      "['trialId', 't_0', 'concs', 'odors', 'spikes']\n"
     ]
    }
   ],
   "source": [
    "## plot the psth of an odor, by odorName and concentration\n",
    "def conc_compare(conc1, conc2, tolerance=1.5):\n",
    "    return 1./float(tolerance) < float(conc1)/float(conc2) and float(conc1)/float(conc2) < float(tolerance)\n",
    "\n",
    "odor_name = ['2-hydroxyacetophenone','2hydroxyacetophenone']\n",
    "odor_conc = 0.0051\n",
    "cell_id = 'ZKawakeM72_020_c_001'\n",
    "#get the rec\n",
    "a_record = records['responses'][cell_id]\n",
    "print a_record['rec_id']\n",
    "print a_record['odor_resp'].keys()\n",
    "#get the indexes of the trials with this odor\n",
    "this_odor_conc = [i for i in range(len(a_record['odor_resp']['odors'])) if a_record['odor_resp']['odors'][i].lower() in odor_name \\\n",
    "             and conc_compare(a_record['odor_resp']['concs'][i], odor_conc)\n",
    "            ]\n",
    "#plot the psth\n",
    "#\n"
   ]
  },
  {
   "cell_type": "code",
   "execution_count": 14,
   "metadata": {
    "collapsed": false
   },
   "outputs": [
    {
     "name": "stdout",
     "output_type": "stream",
     "text": [
      "['trialId', 't_0', 'concs', 'odors', 'spikes']\n"
     ]
    }
   ],
   "source": [
    "print a_record['odor_resp'].keys()"
   ]
  },
  {
   "cell_type": "code",
   "execution_count": 13,
   "metadata": {
    "collapsed": false
   },
   "outputs": [
    {
     "data": {
      "image/png": "[encoded data removed]",
      "text/plain": [
       "<matplotlib.figure.Figure at 0x7fb9e1c8f5d0>"
      ]
     },
     "metadata": {},
     "output_type": "display_data"
    }
   ],
   "source": [
    "# plot a raster for a record, odor, concentration\n",
    "\n",
    "sr_spikes = a_record['odor_resp']['spikes'][this_odor_conc,:]\n",
    "sr_t0     = a_record['odor_resp']['t_0']\n",
    "\n",
    "#plot the psth\n",
    "sr_plot = plt.figure()\n",
    "ras_ax  = sr_plot.add_axes([0, 0, 1, .45])\n",
    "hist_ax = sr_plot.add_axes([0, .5, 1, .45])\n",
    "t0 = 200\n",
    "t1 = 2800\n",
    "t2= 3400\n",
    "bin_size=15\n",
    "\n",
    "#plot the raster\n",
    "lines,_ = plot_raster(sr_spikes,t0=t0,t1=t1,t2=t2,ax=ras_ax)\n",
    "ras_ax.set_xlim(-t0,t2-t1-t0)\n",
    "\n",
    "#the psth\n",
    "hist_line, hist_ax = plot_raster(sr_spikes,t0=t0, t1=t1,t2=t2, bin_size=bin_size, ax=hist_ax)\n",
    "#hist_ax.set_ylim(0.9,1.1)\n",
    "hist_ax.set_xlim(-t0,t2-t1-t0)\n",
    "hist_ax.set_xticklabels([])\n",
    "\n",
    "#the baseline\n",
    "#get the baseline for the cell\n",
    "bl_spikes = records['baselines'][a_record['meta']['id']]['spikes']\n",
    "bl_t0     = records['baselines'][a_record['meta']['id']]['t_0']\n",
    "t1=300\n",
    "t0=200\n",
    "t2=900\n",
    "base_line, hist_ax = plot_raster(bl_spikes,t0=t0, t1=t1,t2=t2, bin_size=bin_size, ax=hist_ax)"
   ]
  },
  {
   "cell_type": "code",
   "execution_count": 91,
   "metadata": {
    "collapsed": false
   },
   "outputs": [],
   "source": [
    "def cells_for_odor(responses, odor_aliases, odor_conc = ''):\n",
    "    #finds all the cells that respond to an odor, and set of concentrations\n",
    "    #returns sub set of responses\n",
    "    odor_responses = {};\n",
    "    for key, response in responses.iteritems():\n",
    "        is_right_odor = any([x in response['odor_resp']['odors'] for x in aliases])\n",
    "        if is_right_odor:\n",
    "            if odor_conc == '':\n",
    "                is_right_conc = True\n",
    "            else:\n",
    "                is_right_conc = any([conc_compare(x, y) for x in response['odor_resp']['concs'] for y in odor_conc])\n",
    "            if is_right_conc:\n",
    "                odor_responses.update(responses[key])\n",
    "    return odor_responses\n"
   ]
  },
  {
   "cell_type": "code",
   "execution_count": 59,
   "metadata": {
    "collapsed": false
   },
   "outputs": [
    {
     "data": {
      "text/plain": [
       "0.0012144000502303243"
      ]
     },
     "execution_count": 59,
     "metadata": {},
     "output_type": "execute_result"
    }
   ],
   "source": [
    "a_record['odor_resp']['concs'][3]"
   ]
  },
  {
   "cell_type": "code",
   "execution_count": 62,
   "metadata": {
    "collapsed": true
   },
   "outputs": [
    {
     "data": {
      "text/plain": [
       "True"
      ]
     },
     "execution_count": 62,
     "metadata": {},
     "output_type": "execute_result"
    }
   ],
   "source": [
    "aliases = ['menthone', 'mentone']\n",
    "odor_conc = [0.0051]\n",
    "conc = [a_record['odor_resp']['concs'][0], a_record['odor_resp']['concs'][0]]\n",
    "\n",
    "any([x in records['responses']['ZKawakeM72_027_d_003']['odor_resp']['o'] for x in aliases])"
   ]
  },
  {
   "cell_type": "code",
   "execution_count": 55,
   "metadata": {
    "collapsed": true
   },
   "outputs": [],
   "source": [
    "is_right_conc = False\n",
    "for conc in odor_conc:\n",
    "    is_right_conc = is_right_conc & any([conc_compare(x, conc) for x in a_record['odor_resp']['concs']])"
   ]
  },
  {
   "cell_type": "code",
   "execution_count": 61,
   "metadata": {
    "collapsed": false
   },
   "outputs": [
    {
     "data": {
      "text/plain": [
       "True"
      ]
     },
     "execution_count": 61,
     "metadata": {},
     "output_type": "execute_result"
    }
   ],
   "source": [
    "any([conc_compare(x, y) for x in a_record['odor_resp']['concs'] for y in odor_conc])"
   ]
  },
  {
   "cell_type": "code",
   "execution_count": 97,
   "metadata": {
    "collapsed": false
   },
   "outputs": [],
   "source": [
    "ment_cells = cells_for_odor(records['responses'],aliases)"
   ]
  },
  {
   "cell_type": "code",
   "execution_count": 92,
   "metadata": {
    "collapsed": true
   },
   "outputs": [
    {
     "name": "stdout",
     "output_type": "stream",
     "text": [
      "['meta', 'rec_id', 'odor_resp', 'light_resp']\n",
      "['meta', 'rec_id', 'odor_resp', 'light_resp']\n",
      "['meta', 'rec_id', 'odor_resp', 'light_resp']\n",
      "['meta', 'rec_id', 'odor_resp', 'light_resp']\n",
      "['meta', 'rec_id', 'odor_resp', 'light_resp']\n",
      "['meta', 'rec_id', 'odor_resp', 'light_resp']\n",
      "['meta', 'rec_id', 'odor_resp', 'light_resp']\n",
      "['meta', 'rec_id', 'odor_resp', 'light_resp']\n",
      "['meta', 'rec_id', 'odor_resp', 'light_resp']\n",
      "['meta', 'rec_id', 'odor_resp', 'light_resp']\n",
      "['meta', 'rec_id', 'odor_resp', 'light_resp']\n",
      "['meta', 'rec_id', 'odor_resp', 'light_resp']\n",
      "['meta', 'rec_id', 'odor_resp', 'light_resp']\n",
      "['meta', 'rec_id', 'odor_resp', 'light_resp']\n",
      "['meta', 'rec_id', 'odor_resp', 'light_resp']\n",
      "['meta', 'rec_id', 'odor_resp', 'light_resp']\n",
      "['meta', 'rec_id', 'odor_resp', 'light_resp']\n",
      "['meta', 'rec_id', 'odor_resp', 'light_resp']\n",
      "['meta', 'rec_id', 'odor_resp', 'light_resp']\n",
      "['meta', 'rec_id', 'odor_resp', 'light_resp']\n",
      "['meta', 'rec_id', 'odor_resp', 'light_resp']\n",
      "['meta', 'rec_id', 'odor_resp', 'light_resp']\n",
      "['meta', 'rec_id', 'odor_resp', 'light_resp']\n",
      "['meta', 'rec_id', 'odor_resp', 'light_resp']\n",
      "['meta', 'rec_id', 'odor_resp', 'light_resp']\n",
      "['meta', 'rec_id', 'odor_resp', 'light_resp']\n",
      "['meta', 'rec_id', 'odor_resp', 'light_resp']\n",
      "['meta', 'rec_id', 'odor_resp', 'light_resp']\n",
      "['meta', 'rec_id', 'odor_resp', 'light_resp']\n",
      "['meta', 'rec_id', 'odor_resp', 'light_resp']\n",
      "['meta', 'rec_id', 'odor_resp', 'light_resp']\n",
      "['meta', 'rec_id', 'odor_resp', 'light_resp']\n",
      "['meta', 'rec_id', 'odor_resp', 'light_resp']\n",
      "['meta', 'rec_id', 'odor_resp', 'light_resp']\n",
      "['meta', 'rec_id', 'odor_resp', 'light_resp']\n",
      "['meta', 'rec_id', 'odor_resp', 'light_resp']\n",
      "['meta', 'rec_id', 'odor_resp', 'light_resp']\n",
      "['meta', 'rec_id', 'odor_resp', 'light_resp']\n",
      "['meta', 'rec_id', 'odor_resp', 'light_resp']\n",
      "['meta', 'rec_id', 'odor_resp', 'light_resp']\n",
      "['meta', 'rec_id', 'odor_resp', 'light_resp']\n",
      "['meta', 'rec_id', 'odor_resp', 'light_resp']\n",
      "['meta', 'rec_id', 'odor_resp', 'light_resp']\n",
      "['meta', 'rec_id', 'odor_resp', 'light_resp']\n",
      "['meta', 'rec_id', 'odor_resp', 'light_resp']\n",
      "['meta', 'rec_id', 'odor_resp', 'light_resp']\n",
      "['meta', 'rec_id', 'odor_resp', 'light_resp']\n",
      "['meta', 'rec_id', 'odor_resp', 'light_resp']\n",
      "['meta', 'rec_id', 'odor_resp', 'light_resp']\n",
      "['meta', 'rec_id', 'odor_resp', 'light_resp']\n",
      "['meta', 'rec_id', 'odor_resp', 'light_resp']\n",
      "['meta', 'rec_id', 'odor_resp', 'light_resp']\n",
      "['meta', 'rec_id', 'odor_resp', 'light_resp']\n",
      "['meta', 'rec_id', 'odor_resp', 'light_resp']\n",
      "['meta', 'rec_id', 'odor_resp', 'light_resp']\n",
      "['meta', 'rec_id', 'odor_resp', 'light_resp']\n",
      "['meta', 'rec_id', 'odor_resp', 'light_resp']\n",
      "['meta', 'rec_id', 'odor_resp', 'light_resp']\n",
      "['meta', 'rec_id', 'odor_resp', 'light_resp']\n",
      "['meta', 'rec_id', 'odor_resp', 'light_resp']\n",
      "['meta', 'rec_id', 'odor_resp', 'light_resp']\n",
      "['meta', 'rec_id', 'odor_resp', 'light_resp']\n",
      "['meta', 'rec_id', 'odor_resp', 'light_resp']\n",
      "['meta', 'rec_id', 'odor_resp', 'light_resp']\n",
      "['meta', 'rec_id', 'odor_resp', 'light_resp']\n",
      "['meta', 'rec_id', 'odor_resp', 'light_resp']\n",
      "['meta', 'rec_id', 'odor_resp', 'light_resp']\n",
      "['meta', 'rec_id', 'odor_resp', 'light_resp']\n",
      "['meta', 'rec_id', 'odor_resp', 'light_resp']\n",
      "['meta', 'rec_id', 'odor_resp', 'light_resp']\n",
      "['meta', 'rec_id', 'odor_resp', 'light_resp']\n",
      "['meta', 'rec_id', 'odor_resp', 'light_resp']\n",
      "['meta', 'rec_id', 'odor_resp', 'light_resp']\n",
      "['meta', 'rec_id', 'odor_resp', 'light_resp']\n",
      "['meta', 'rec_id', 'odor_resp', 'light_resp']\n",
      "['meta', 'rec_id', 'odor_resp', 'light_resp']\n",
      "['meta', 'rec_id', 'odor_resp', 'light_resp']\n",
      "['meta', 'rec_id', 'odor_resp', 'light_resp']\n",
      "['meta', 'rec_id', 'odor_resp', 'light_resp']\n",
      "['meta', 'rec_id', 'odor_resp', 'light_resp']\n",
      "['meta', 'rec_id', 'odor_resp', 'light_resp']\n",
      "['meta', 'rec_id', 'odor_resp', 'light_resp']\n",
      "['meta', 'rec_id', 'odor_resp', 'light_resp']\n",
      "['meta', 'rec_id', 'odor_resp', 'light_resp']\n",
      "['meta', 'rec_id', 'odor_resp', 'light_resp']\n",
      "['meta', 'rec_id', 'odor_resp', 'light_resp']\n",
      "['meta', 'rec_id', 'odor_resp', 'light_resp']\n",
      "['meta', 'rec_id', 'odor_resp', 'light_resp']\n",
      "['meta', 'rec_id', 'odor_resp', 'light_resp']\n",
      "['meta', 'rec_id', 'odor_resp', 'light_resp']\n",
      "['meta', 'rec_id', 'odor_resp', 'light_resp']\n",
      "['meta', 'rec_id', 'odor_resp', 'light_resp']\n",
      "['meta', 'rec_id', 'odor_resp', 'light_resp']\n",
      "['meta', 'rec_id', 'odor_resp', 'light_resp']\n",
      "['meta', 'rec_id', 'odor_resp', 'light_resp']\n",
      "['meta', 'rec_id', 'odor_resp', 'light_resp']\n",
      "['meta', 'rec_id', 'odor_resp', 'light_resp']\n",
      "['meta', 'rec_id', 'odor_resp', 'light_resp']\n",
      "['meta', 'rec_id', 'odor_resp', 'light_resp']\n",
      "['meta', 'rec_id', 'odor_resp', 'light_resp']\n",
      "['meta', 'rec_id', 'odor_resp', 'light_resp']\n",
      "['meta', 'rec_id', 'odor_resp', 'light_resp']\n",
      "['meta', 'rec_id', 'odor_resp', 'light_resp']\n",
      "['meta', 'rec_id', 'odor_resp', 'light_resp']\n",
      "['meta', 'rec_id', 'odor_resp', 'light_resp']\n",
      "['meta', 'rec_id', 'odor_resp', 'light_resp']\n",
      "['meta', 'rec_id', 'odor_resp', 'light_resp']\n",
      "['meta', 'rec_id', 'odor_resp', 'light_resp']\n",
      "['meta', 'rec_id', 'odor_resp', 'light_resp']\n",
      "['meta', 'rec_id', 'odor_resp', 'light_resp']\n",
      "['meta', 'rec_id', 'odor_resp', 'light_resp']\n",
      "['meta', 'rec_id', 'odor_resp', 'light_resp']\n",
      "['meta', 'rec_id', 'odor_resp', 'light_resp']\n",
      "['meta', 'rec_id', 'odor_resp', 'light_resp']\n",
      "['meta', 'rec_id', 'odor_resp', 'light_resp']\n",
      "['meta', 'rec_id', 'odor_resp', 'light_resp']\n",
      "['meta', 'rec_id', 'odor_resp', 'light_resp']\n",
      "['meta', 'rec_id', 'odor_resp', 'light_resp']\n",
      "['meta', 'rec_id', 'odor_resp', 'light_resp']\n",
      "['meta', 'rec_id', 'odor_resp', 'light_resp']\n",
      "['meta', 'rec_id', 'odor_resp', 'light_resp']\n",
      "['meta', 'rec_id', 'odor_resp', 'light_resp']\n",
      "['meta', 'rec_id', 'odor_resp', 'light_resp']\n",
      "['meta', 'rec_id', 'odor_resp', 'light_resp']\n",
      "['meta', 'rec_id', 'odor_resp', 'light_resp']\n",
      "['meta', 'rec_id', 'odor_resp', 'light_resp']\n",
      "['meta', 'rec_id', 'odor_resp', 'light_resp']\n",
      "['meta', 'rec_id', 'odor_resp', 'light_resp']\n",
      "['meta', 'rec_id', 'odor_resp', 'light_resp']\n",
      "['meta', 'rec_id', 'odor_resp', 'light_resp']\n",
      "['meta', 'rec_id', 'odor_resp', 'light_resp']\n",
      "['meta', 'rec_id', 'odor_resp', 'light_resp']\n",
      "['meta', 'rec_id', 'odor_resp', 'light_resp']\n",
      "['meta', 'rec_id', 'odor_resp', 'light_resp']\n",
      "['meta', 'rec_id', 'odor_resp', 'light_resp']\n",
      "['meta', 'rec_id', 'odor_resp', 'light_resp']\n",
      "['meta', 'rec_id', 'odor_resp', 'light_resp']\n",
      "['meta', 'rec_id', 'odor_resp', 'light_resp']\n",
      "['meta', 'rec_id', 'odor_resp', 'light_resp']\n",
      "['meta', 'rec_id', 'odor_resp', 'light_resp']\n",
      "['meta', 'rec_id', 'odor_resp', 'light_resp']\n",
      "['meta', 'rec_id', 'odor_resp', 'light_resp']\n",
      "['meta', 'rec_id', 'odor_resp', 'light_resp']\n",
      "['meta', 'rec_id', 'odor_resp', 'light_resp']\n",
      "['meta', 'rec_id', 'odor_resp', 'light_resp']\n",
      "['meta', 'rec_id', 'odor_resp', 'light_resp']\n",
      "['meta', 'rec_id', 'odor_resp', 'light_resp']\n",
      "['meta', 'rec_id', 'odor_resp', 'light_resp']\n",
      "['meta', 'rec_id', 'odor_resp', 'light_resp']\n",
      "['meta', 'rec_id', 'odor_resp', 'light_resp']\n",
      "['meta', 'rec_id', 'odor_resp', 'light_resp']\n",
      "['meta', 'rec_id', 'odor_resp', 'light_resp']\n",
      "['meta', 'rec_id', 'odor_resp', 'light_resp']\n",
      "['meta', 'rec_id', 'odor_resp', 'light_resp']\n",
      "['meta', 'rec_id', 'odor_resp', 'light_resp']\n",
      "['meta', 'rec_id', 'odor_resp', 'light_resp']\n",
      "['meta', 'rec_id', 'odor_resp', 'light_resp']\n",
      "['meta', 'rec_id', 'odor_resp', 'light_resp']\n",
      "['meta', 'rec_id', 'odor_resp', 'light_resp']\n",
      "['meta', 'rec_id', 'odor_resp', 'light_resp']\n",
      "['meta', 'rec_id', 'odor_resp', 'light_resp']\n",
      "['meta', 'rec_id', 'odor_resp', 'light_resp']\n",
      "['meta', 'rec_id', 'odor_resp', 'light_resp']\n",
      "['meta', 'rec_id', 'odor_resp', 'light_resp']\n",
      "['meta', 'rec_id', 'odor_resp', 'light_resp']\n",
      "['meta', 'rec_id', 'odor_resp', 'light_resp']\n",
      "['meta', 'rec_id', 'odor_resp', 'light_resp']\n",
      "['meta', 'rec_id', 'odor_resp', 'light_resp']\n",
      "['meta', 'rec_id', 'odor_resp', 'light_resp']\n",
      "['meta', 'rec_id', 'odor_resp', 'light_resp']\n",
      "['meta', 'rec_id', 'odor_resp', 'light_resp']\n",
      "['meta', 'rec_id', 'odor_resp', 'light_resp']\n",
      "['meta', 'rec_id', 'odor_resp', 'light_resp']\n",
      "['meta', 'rec_id', 'odor_resp', 'light_resp']\n",
      "['meta', 'rec_id', 'odor_resp', 'light_resp']\n",
      "['meta', 'rec_id', 'odor_resp', 'light_resp']\n",
      "['meta', 'rec_id', 'odor_resp', 'light_resp']\n",
      "['meta', 'rec_id', 'odor_resp', 'light_resp']\n",
      "['meta', 'rec_id', 'odor_resp', 'light_resp']\n",
      "['meta', 'rec_id', 'odor_resp', 'light_resp']\n",
      "['meta', 'rec_id', 'odor_resp', 'light_resp']\n",
      "['meta', 'rec_id', 'odor_resp', 'light_resp']\n",
      "['meta', 'rec_id', 'odor_resp', 'light_resp']\n",
      "['meta', 'rec_id', 'odor_resp', 'light_resp']\n",
      "['meta', 'rec_id', 'odor_resp', 'light_resp']\n",
      "['meta', 'rec_id', 'odor_resp', 'light_resp']\n",
      "['meta', 'rec_id', 'odor_resp', 'light_resp']\n",
      "['meta', 'rec_id', 'odor_resp', 'light_resp']\n",
      "['meta', 'rec_id', 'odor_resp', 'light_resp']\n",
      "['meta', 'rec_id', 'odor_resp', 'light_resp']\n",
      "['meta', 'rec_id', 'odor_resp', 'light_resp']\n",
      "['meta', 'rec_id', 'odor_resp', 'light_resp']\n",
      "['meta', 'rec_id', 'odor_resp', 'light_resp']\n",
      "['meta', 'rec_id', 'odor_resp', 'light_resp']\n",
      "['meta', 'rec_id', 'odor_resp', 'light_resp']\n",
      "['meta', 'rec_id', 'odor_resp', 'light_resp']\n"
     ]
    }
   ],
   "source": [
    "sel_resp = {};\n",
    "for response in records['responses']:\n",
    "    print records['responses'][response].keys()\n",
    "    sel_resp.update(records['responses'][response])\n"
   ]
  },
  {
   "cell_type": "code",
   "execution_count": 101,
   "metadata": {
    "collapsed": true
   },
   "outputs": [
    {
     "ename": "TypeError",
     "evalue": "'NoneType' object has no attribute '__getitem__'",
     "output_type": "error",
     "traceback": [
      "\u001b[1;31m---------------------------------------------------------------------------\u001b[0m",
      "\u001b[1;31mTypeError\u001b[0m                                 Traceback (most recent call last)",
      "\u001b[1;32m<ipython-input-101-d2a2ea8f2ada>\u001b[0m in \u001b[0;36m<module>\u001b[1;34m()\u001b[0m\n\u001b[1;32m----> 1\u001b[1;33m \u001b[0mment_cells\u001b[0m\u001b[1;33m[\u001b[0m\u001b[1;36m1\u001b[0m\u001b[1;33m]\u001b[0m\u001b[1;33m\u001b[0m\u001b[0m\n\u001b[0m",
      "\u001b[1;31mTypeError\u001b[0m: 'NoneType' object has no attribute '__getitem__'"
     ]
    }
   ],
   "source": [
    "one_fieldment_cells[1]"
   ]
  },
  {
   "cell_type": "code",
   "execution_count": 41,
   "metadata": {
    "collapsed": false
   },
   "outputs": [
    {
     "name": "stdout",
     "output_type": "stream",
     "text": [
      "[('noStimSniffs', (1, 2336), 'struct')]\n",
      "<scipy.io.matlab.mio5_params.mat_struct object at 0x7fbd7c1540d0>\n"
     ]
    }
   ],
   "source": [
    "mat_file = os.path.join(fn.fold_exp_data,'ZKawakeM72_013_010_noStimSniff.mat')\n",
    "cell_data = sio.loadmat(mat_file, struct_as_record=False, squeeze_me=True)\n",
    "print sio.whosmat(mat_file)\n",
    "print cell_data['noStimSniffs'][1]\n",
    "one_sniff = cell_data['noStimSniffs'][1]"
   ]
  },
  {
   "cell_type": "code",
   "execution_count": 120,
   "metadata": {
    "collapsed": false
   },
   "outputs": [
    {
     "data": {
      "text/plain": [
       "2336"
      ]
     },
     "execution_count": 120,
     "metadata": {},
     "output_type": "execute_result"
    }
   ],
   "source": [
    "cell_data['noStimSniffs'].shape[0]"
   ]
  },
  {
   "cell_type": "code",
   "execution_count": 71,
   "metadata": {
    "collapsed": true
   },
   "outputs": [
    {
     "ename": "TypeError",
     "evalue": "data type not understood",
     "output_type": "error",
     "traceback": [
      "\u001b[1;31m---------------------------------------------------------------------------\u001b[0m",
      "\u001b[1;31mTypeError\u001b[0m                                 Traceback (most recent call last)",
      "\u001b[1;32m<ipython-input-71-d93c4c5abcda>\u001b[0m in \u001b[0;36m<module>\u001b[1;34m()\u001b[0m\n\u001b[1;32m----> 1\u001b[1;33m \u001b[0mx\u001b[0m\u001b[1;33m=\u001b[0m\u001b[0mnp\u001b[0m\u001b[1;33m.\u001b[0m\u001b[0marray\u001b[0m\u001b[1;33m(\u001b[0m\u001b[1;33m(\u001b[0m\u001b[0mnp\u001b[0m\u001b[1;33m.\u001b[0m\u001b[0marray\u001b[0m\u001b[1;33m(\u001b[0m\u001b[1;33m[\u001b[0m\u001b[1;33m]\u001b[0m\u001b[1;33m)\u001b[0m\u001b[1;33m,\u001b[0m \u001b[1;34m'Hello'\u001b[0m\u001b[1;33m)\u001b[0m\u001b[1;33m,\u001b[0m \u001b[1;33m(\u001b[0m\u001b[0mnp\u001b[0m\u001b[1;33m.\u001b[0m\u001b[0marray\u001b[0m\u001b[1;33m(\u001b[0m\u001b[1;33m[\u001b[0m\u001b[1;33m]\u001b[0m\u001b[1;33m)\u001b[0m\u001b[1;33m,\u001b[0m \u001b[1;34m'World'\u001b[0m\u001b[1;33m)\u001b[0m\u001b[1;33m)\u001b[0m\u001b[1;33m\u001b[0m\u001b[0m\n\u001b[0m",
      "\u001b[1;31mTypeError\u001b[0m: data type not understood"
     ]
    }
   ],
   "source": [
    "x=np.array((np.array([]), 'Hello'), (np.array([]), 'World'))"
   ]
  },
  {
   "cell_type": "code",
   "execution_count": 75,
   "metadata": {
    "collapsed": true
   },
   "outputs": [
    {
     "ename": "TypeError",
     "evalue": "data type \"np.ndarray\" not understood",
     "output_type": "error",
     "traceback": [
      "\u001b[1;31m---------------------------------------------------------------------------\u001b[0m",
      "\u001b[1;31mTypeError\u001b[0m                                 Traceback (most recent call last)",
      "\u001b[1;32m<ipython-input-75-17f618be52b8>\u001b[0m in \u001b[0;36m<module>\u001b[1;34m()\u001b[0m\n\u001b[1;32m----> 1\u001b[1;33m \u001b[0mx\u001b[0m \u001b[1;33m=\u001b[0m \u001b[0mnp\u001b[0m\u001b[1;33m.\u001b[0m\u001b[0mzeros\u001b[0m\u001b[1;33m(\u001b[0m\u001b[1;33m(\u001b[0m\u001b[1;36m2\u001b[0m\u001b[1;33m,\u001b[0m\u001b[1;33m)\u001b[0m\u001b[1;33m,\u001b[0m \u001b[0mdtype\u001b[0m\u001b[1;33m=\u001b[0m\u001b[1;33m(\u001b[0m\u001b[1;34m'np.ndarray,a10'\u001b[0m\u001b[1;33m)\u001b[0m\u001b[1;33m)\u001b[0m\u001b[1;33m\u001b[0m\u001b[0m\n\u001b[0m",
      "\u001b[1;31mTypeError\u001b[0m: data type \"np.ndarray\" not understood"
     ]
    }
   ],
   "source": [
    "x = np.zeros((2,), dtype=('np.ndarray,a10'))"
   ]
  },
  {
   "cell_type": "code",
   "execution_count": 60,
   "metadata": {
    "collapsed": false
   },
   "outputs": [
    {
     "data": {
      "text/plain": [
       "3.0"
      ]
     },
     "execution_count": 60,
     "metadata": {},
     "output_type": "execute_result"
    }
   ],
   "source": [
    "x[1][1]"
   ]
  },
  {
   "cell_type": "code",
   "execution_count": 73,
   "metadata": {
    "collapsed": false
   },
   "outputs": [
    {
     "data": {
      "text/plain": [
       "numpy.ndarray"
      ]
     },
     "execution_count": 73,
     "metadata": {},
     "output_type": "execute_result"
    }
   ],
   "source": [
    "y=np.array([])\n",
    "type(y)"
   ]
  },
  {
   "cell_type": "code",
   "execution_count": 76,
   "metadata": {
    "collapsed": false
   },
   "outputs": [
    {
     "data": {
      "text/plain": [
       "numpy.ndarray"
      ]
     },
     "execution_count": 76,
     "metadata": {},
     "output_type": "execute_result"
    }
   ],
   "source": [
    "np.ndarray"
   ]
  },
  {
   "cell_type": "code",
   "execution_count": 136,
   "metadata": {
    "collapsed": false
   },
   "outputs": [
    {
     "ename": "TypeError",
     "evalue": "Required argument 'shape' (pos 1) not found",
     "output_type": "error",
     "traceback": [
      "\u001b[1;31m---------------------------------------------------------------------------\u001b[0m",
      "\u001b[1;31mTypeError\u001b[0m                                 Traceback (most recent call last)",
      "\u001b[1;32m<ipython-input-136-129d1c985431>\u001b[0m in \u001b[0;36m<module>\u001b[1;34m()\u001b[0m\n\u001b[1;32m----> 1\u001b[1;33m \u001b[0mx\u001b[0m\u001b[1;33m=\u001b[0m\u001b[0mnp\u001b[0m\u001b[1;33m.\u001b[0m\u001b[0mones\u001b[0m\u001b[1;33m(\u001b[0m\u001b[1;36m3\u001b[0m\u001b[1;33m,\u001b[0m \u001b[0mdtype\u001b[0m\u001b[1;33m=\u001b[0m\u001b[0mnp\u001b[0m\u001b[1;33m.\u001b[0m\u001b[0mdtype\u001b[0m\u001b[1;33m(\u001b[0m\u001b[1;33m[\u001b[0m\u001b[1;33m(\u001b[0m\u001b[1;34m'foo'\u001b[0m\u001b[1;33m,\u001b[0m \u001b[0mint\u001b[0m\u001b[1;33m)\u001b[0m\u001b[1;33m,\u001b[0m \u001b[1;33m(\u001b[0m\u001b[1;34m'bar'\u001b[0m\u001b[1;33m,\u001b[0m \u001b[0mnp\u001b[0m\u001b[1;33m.\u001b[0m\u001b[0mndarray\u001b[0m\u001b[1;33m(\u001b[0m\u001b[0mdtype\u001b[0m\u001b[1;33m=\u001b[0m\u001b[0mnp\u001b[0m\u001b[1;33m.\u001b[0m\u001b[0mfloat\u001b[0m\u001b[1;33m)\u001b[0m\u001b[1;33m)\u001b[0m\u001b[1;33m]\u001b[0m\u001b[1;33m)\u001b[0m\u001b[1;33m)\u001b[0m\u001b[1;33m\u001b[0m\u001b[0m\n\u001b[0m\u001b[0;32m      2\u001b[0m \u001b[0my\u001b[0m\u001b[1;33m=\u001b[0m\u001b[0mnp\u001b[0m\u001b[1;33m.\u001b[0m\u001b[0mones\u001b[0m\u001b[1;33m(\u001b[0m\u001b[1;36m3\u001b[0m\u001b[1;33m,\u001b[0m \u001b[0mdtype\u001b[0m\u001b[1;33m=\u001b[0m\u001b[0mnp\u001b[0m\u001b[1;33m.\u001b[0m\u001b[0mdtype\u001b[0m\u001b[1;33m(\u001b[0m\u001b[1;33m[\u001b[0m\u001b[1;33m(\u001b[0m\u001b[1;34m'foo'\u001b[0m\u001b[1;33m,\u001b[0m \u001b[0mint\u001b[0m\u001b[1;33m)\u001b[0m\u001b[1;33m,\u001b[0m \u001b[1;33m(\u001b[0m\u001b[1;34m'bar'\u001b[0m\u001b[1;33m,\u001b[0m \u001b[0mnp\u001b[0m\u001b[1;33m.\u001b[0m\u001b[0mndarray\u001b[0m\u001b[1;33m(\u001b[0m\u001b[0mdtype\u001b[0m\u001b[1;33m=\u001b[0m\u001b[0mnp\u001b[0m\u001b[1;33m.\u001b[0m\u001b[0mfloat\u001b[0m\u001b[1;33m)\u001b[0m\u001b[1;33m)\u001b[0m\u001b[1;33m]\u001b[0m\u001b[1;33m)\u001b[0m\u001b[1;33m)\u001b[0m\u001b[1;33m\u001b[0m\u001b[0m\n",
      "\u001b[1;31mTypeError\u001b[0m: Required argument 'shape' (pos 1) not found"
     ]
    }
   ],
   "source": [
    "x=np.ones(3, dtype=np.dtype([('foo', int), ('bar', np.ndarray(dtype=np.float))]))\n",
    "y=np.ones(3, dtype=np.dtype([('foo', int), ('bar', np.ndarray(dtype=np.float))]))"
   ]
  },
  {
   "cell_type": "code",
   "execution_count": 98,
   "metadata": {
    "collapsed": false
   },
   "outputs": [],
   "source": [
    "x[1]['bar']=np.ndarray([1,2])"
   ]
  },
  {
   "cell_type": "code",
   "execution_count": 99,
   "metadata": {
    "collapsed": false
   },
   "outputs": [],
   "source": [
    "z=np.concatenate((x,y))"
   ]
  },
  {
   "cell_type": "code",
   "execution_count": 102,
   "metadata": {
    "collapsed": false
   },
   "outputs": [
    {
     "data": {
      "text/plain": [
       "1"
      ]
     },
     "execution_count": 102,
     "metadata": {},
     "output_type": "execute_result"
    }
   ],
   "source": [
    "z[3]['bar']"
   ]
  },
  {
   "cell_type": "code",
   "execution_count": 105,
   "metadata": {
    "collapsed": false
   },
   "outputs": [
    {
     "data": {
      "text/plain": [
       "array([1, 1, 1, 1, 1, 1])"
      ]
     },
     "execution_count": 105,
     "metadata": {},
     "output_type": "execute_result"
    }
   ],
   "source": [
    "z['foo']"
   ]
  },
  {
   "cell_type": "code",
   "execution_count": 135,
   "metadata": {
    "collapsed": false
   },
   "outputs": [],
   "source": [
    "y=np.ndarray((3,), dtype=np.dtype([('foo', int), ('bar', np.ndarray)]))"
   ]
  },
  {
   "cell_type": "code",
   "execution_count": 107,
   "metadata": {
    "collapsed": false
   },
   "outputs": [
    {
     "data": {
      "text/plain": [
       "array((0, None), \n",
       "      dtype=[('foo', '<i8'), ('bar', 'O')])"
      ]
     },
     "execution_count": 107,
     "metadata": {},
     "output_type": "execute_result"
    }
   ],
   "source": [
    "y"
   ]
  },
  {
   "cell_type": "code",
   "execution_count": 116,
   "metadata": {
    "collapsed": false
   },
   "outputs": [],
   "source": [
    "y[0]=(3,[1,2,5])"
   ]
  },
  {
   "cell_type": "code",
   "execution_count": 117,
   "metadata": {
    "collapsed": false
   },
   "outputs": [
    {
     "data": {
      "text/plain": [
       "array([(3, [1, 2, 5]), (0, None), (0, None)], \n",
       "      dtype=[('foo', '<i8'), ('bar', 'O')])"
      ]
     },
     "execution_count": 117,
     "metadata": {},
     "output_type": "execute_result"
    }
   ],
   "source": []
  },
  {
   "cell_type": "code",
   "execution_count": 134,
   "metadata": {
    "collapsed": false
   },
   "outputs": [
    {
     "ename": "TypeError",
     "evalue": "'float' object is not callable",
     "output_type": "error",
     "traceback": [
      "\u001b[1;31m---------------------------------------------------------------------------\u001b[0m",
      "\u001b[1;31mTypeError\u001b[0m                                 Traceback (most recent call last)",
      "\u001b[1;32m<ipython-input-134-33d9c10faeeb>\u001b[0m in \u001b[0;36m<module>\u001b[1;34m()\u001b[0m\n\u001b[1;32m----> 1\u001b[1;33m \u001b[0my\u001b[0m\u001b[1;33m=\u001b[0m\u001b[0mnp\u001b[0m\u001b[1;33m.\u001b[0m\u001b[0mnan\u001b[0m\u001b[1;33m(\u001b[0m\u001b[1;33m[\u001b[0m\u001b[1;36m2\u001b[0m\u001b[1;33m,\u001b[0m\u001b[1;36m3\u001b[0m\u001b[1;33m]\u001b[0m\u001b[1;33m)\u001b[0m\u001b[1;33m\u001b[0m\u001b[0m\n\u001b[0m",
      "\u001b[1;31mTypeError\u001b[0m: 'float' object is not callable"
     ]
    }
   ],
   "source": [
    "y=np.nan([2,3])"
   ]
  },
  {
   "cell_type": "code",
   "execution_count": 140,
   "metadata": {
    "collapsed": false
   },
   "outputs": [
    {
     "data": {
      "text/plain": [
       "array([ 0.,  0.,  0.])"
      ]
     },
     "execution_count": 140,
     "metadata": {},
     "output_type": "execute_result"
    }
   ],
   "source": [
    "np.zeros((3,),dtype=np.float)"
   ]
  },
  {
   "cell_type": "code",
   "execution_count": null,
   "metadata": {
    "collapsed": true
   },
   "outputs": [],
   "source": []
  }
 ],
 "metadata": {
  "kernelspec": {
   "display_name": "Python 2",
   "language": "python",
   "name": "python2"
  },
  "language_info": {
   "codemirror_mode": {
    "name": "ipython",
    "version": 2
   },
   "file_extension": ".py",
   "mimetype": "text/x-python",
   "name": "python",
   "nbconvert_exporter": "python",
   "pygments_lexer": "ipython2",
   "version": "2.7.10"
  }
 },
 "nbformat": 4,
 "nbformat_minor": 0
}
