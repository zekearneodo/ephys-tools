{
 "cells": [
  {
   "cell_type": "code",
   "execution_count": 34,
   "metadata": {
    "collapsed": false
   },
   "outputs": [
    {
     "name": "stdout",
     "output_type": "stream",
     "text": [
      "Computer: server\n"
     ]
    }
   ],
   "source": [
    "%matplotlib inline\n",
    "import pdb\n",
    "import sys\n",
    "import pandas as pd\n",
    "import numpy as np\n",
    "import scipy.io as sio\n",
    "import matplotlib.pyplot as plt\n",
    "import matplotlib\n",
    "import scipy.signal as sg\n",
    "import math\n",
    "import scipy as sp\n",
    "import socket\n",
    "import os\n",
    "import zipfile\n",
    "import tarfile\n",
    "\n",
    "matplotlib.style.use('ggplot')\n",
    "\n",
    "comp_name=socket.gethostname()\n",
    "if  comp_name == 'Ezequiels-MacBook-Pro.local':\n",
    "    print 'Computer: ' + comp_name\n",
    "    sys.path.append('/Users/zeke/experiment/ephysDataManagement/ephysScripts')\n",
    "    experiment_folder = os.path.join('/Users','zeke','experiment')\n",
    "else:\n",
    "    print 'Computer: ' + 'server'\n",
    "    sys.path.append('/experiment/ephysDataManagement/ephysScripts')\n",
    "    experiment_folder = os.path.join('/','experiment')\n",
    "    bkp_mount = os.path.join('/','mnt','labspace')\n",
    "    \n",
    "import unitToolsv2\n",
    "from data_handling import ephys_names as en\n",
    "from data_handling.basic_plot import decim, plot_raster, make_psth\n",
    "from data_handling import data_load as dl\n",
    "from analysis import stimulus as st\n",
    "\n",
    "#load all the records, to not load all the records for every stimulus\n",
    "mouse = 'ZKawakeM72'\n",
    "sess  = 14\n",
    "fn = en.file_names(mouse,sess,root=experiment_folder)"
   ]
  },
  {
   "cell_type": "code",
   "execution_count": 35,
   "metadata": {
    "collapsed": true
   },
   "outputs": [],
   "source": [
    "source_dir = fn.fold_rd_sess\n",
    "dest_dir = os.path.join(bkp_mount,'raw_data','mouse_'+mouse)\n",
    "dest_file = os.path.split(fn.fold_rd_sess)[-1] + '.tar.bz2'\n",
    "full_dest_path = os.path.join(dest_dir,dest_file)"
   ]
  },
  {
   "cell_type": "code",
   "execution_count": 40,
   "metadata": {
    "collapsed": false
   },
   "outputs": [
    {
     "name": "stdout",
     "output_type": "stream",
     "text": [
      "drwxrwsr-x zeke/datausers          0 2015-03-24 14:19:48 experiment/raw_data/mouse_ZKawakeM72/sess_014/\n",
      "-rwxrwxr-x zeke/datausers   18102512 2014-10-10 11:22:43 experiment/raw_data/mouse_ZKawakeM72/sess_014/a_01_D2014_10_10T10_32_7_beh.h5\n",
      "-rwxrwxr-x zeke/datausers       1003 2014-10-10 11:22:43 experiment/raw_data/mouse_ZKawakeM72/sess_014/a_01_data.meta\n",
      "-rwxrwxr-x zeke/datausers   17228056 2014-10-10 12:28:30 experiment/raw_data/mouse_ZKawakeM72/sess_014/b_01_D2014_10_10T11_39_41_beh.h5\n",
      "-rwxrwxr-x zeke/datausers       1003 2014-10-10 12:28:30 experiment/raw_data/mouse_ZKawakeM72/sess_014/b_01_data.meta\n",
      "drwxrwsr-x zeke/datausers          0 2014-10-13 11:46:00 experiment/raw_data/mouse_ZKawakeM72/sess_014/badFiles/\n",
      "-rwxrwxr-x zeke/datausers     133896 2014-10-10 10:32:00 experiment/raw_data/mouse_ZKawakeM72/sess_014/badFiles/a_01_D2014_10_10T10_31_49_beh.h5\n",
      "-rwxrwxr-x zeke/datausers     239464 2014-10-10 10:31:38 experiment/raw_data/mouse_ZKawakeM72/sess_014/badFiles/a_01_D2014_10_10T10_31_6_beh.h5\n",
      "-rwxrwxr-x zeke/datausers    2295136 2014-10-10 11:30:17 experiment/raw_data/mouse_ZKawakeM72/sess_014/badFiles/b_01_D2014_10_10T11_24_2_beh.h5\n",
      "-rwxrwxr-x zeke/datausers     487288 2014-10-10 11:37:47 experiment/raw_data/mouse_ZKawakeM72/sess_014/badFiles/b_01_D2014_10_10T11_36_33_beh.h5\n",
      "-rwxrwxr-x zeke/datausers   10680944 2014-10-10 17:52:50 experiment/raw_data/mouse_ZKawakeM72/sess_014/badFiles/h_01_D2014_10_10T17_2_43_beh.h5\n",
      "-rwxrwxr-x zeke/datausers       2505 2014-10-06 11:49:36 experiment/raw_data/mouse_ZKawakeM72/sess_014/buzsaki32.prb~\n",
      "-rwxrwxr-x zeke/datausers       2627 2014-10-13 11:42:47 experiment/raw_data/mouse_ZKawakeM72/sess_014/buzsaki32_bads07.prb\n",
      "-rwxrwxr-x zeke/datausers       2627 2014-10-13 11:38:06 experiment/raw_data/mouse_ZKawakeM72/sess_014/buzsaki32_bads07.prb~\n",
      "-rwxrwxr-x zeke/datausers   10948904 2014-10-10 13:01:08 experiment/raw_data/mouse_ZKawakeM72/sess_014/c_01_D2014_10_10T12_31_9_beh.h5\n",
      "-rwxrwxr-x zeke/datausers       1003 2014-10-10 13:01:08 experiment/raw_data/mouse_ZKawakeM72/sess_014/c_01_data.meta\n",
      "-rwxrwxr-x zeke/datausers        666 2014-09-16 15:34:23 experiment/raw_data/mouse_ZKawakeM72/sess_014/channel_config_buzsaki32.txt\n",
      "-rwxrwxr-x zeke/datausers   18948992 2014-10-10 14:05:01 experiment/raw_data/mouse_ZKawakeM72/sess_014/d_01_D2014_10_10T13_11_52_beh.h5\n",
      "-rwxrwxr-x zeke/datausers       1003 2014-10-10 14:05:01 experiment/raw_data/mouse_ZKawakeM72/sess_014/d_01_data.meta\n",
      "-rwxrwxr-x zeke/datausers   11357816 2014-10-10 14:36:09 experiment/raw_data/mouse_ZKawakeM72/sess_014/e_01_D2014_10_10T14_5_34_beh.h5\n",
      "-rwxrwxr-x zeke/datausers       1003 2014-10-10 14:36:09 experiment/raw_data/mouse_ZKawakeM72/sess_014/e_01_data.meta\n",
      "-rwxrwxr-x zeke/datausers   11516160 2014-10-10 15:31:23 experiment/raw_data/mouse_ZKawakeM72/sess_014/f_01_D2014_10_10T14_59_35_beh.h5\n",
      "-rwxrwxr-x zeke/datausers       1003 2014-10-10 15:31:24 experiment/raw_data/mouse_ZKawakeM72/sess_014/f_01_data.meta\n",
      "-rwxrwxr-x zeke/datausers    5746888 2014-10-10 15:49:52 experiment/raw_data/mouse_ZKawakeM72/sess_014/f_02_D2014_10_10T15_33_52_beh.h5\n",
      "-rwxrwxr-x zeke/datausers       1003 2014-10-10 15:49:52 experiment/raw_data/mouse_ZKawakeM72/sess_014/f_02_data.meta\n",
      "-rwxrwxr-x zeke/datausers   18601160 2014-10-10 17:00:01 experiment/raw_data/mouse_ZKawakeM72/sess_014/g_01_D2014_10_10T16_8_23_beh.h5\n",
      "-rwxrwxr-x zeke/datausers       1003 2014-10-10 17:00:01 experiment/raw_data/mouse_ZKawakeM72/sess_014/g_01_data.meta\n",
      "-rwxrwxr-x zeke/datausers   16496840 2014-10-10 18:48:29 experiment/raw_data/mouse_ZKawakeM72/sess_014/h_01_D2014_10_10T17_59_38_beh.h5\n",
      "-rwxrwxr-x zeke/datausers       1003 2014-10-10 18:48:29 experiment/raw_data/mouse_ZKawakeM72/sess_014/h_01_data.meta\n",
      "-rwxrwxr-x zeke/datausers       5947 2014-10-13 11:42:43 experiment/raw_data/mouse_ZKawakeM72/sess_014/log_ZKawakeM72_014.txt\n",
      "-rwxrwxr-x zeke/datausers       5947 2014-10-13 11:39:17 experiment/raw_data/mouse_ZKawakeM72/sess_014/log_ZKawakeM72_014.txt~\n"
     ]
    }
   ],
   "source": [
    "make_tarfile(full_dest_path, source_dir)"
   ]
  },
  {
   "cell_type": "code",
   "execution_count": 39,
   "metadata": {
    "collapsed": true
   },
   "outputs": [],
   "source": [
    "def make_tarfile(output_filename, source_dir):\n",
    "    with tarfile.open(output_filename, \"w:bz2\") as tar:\n",
    "        tar.add(source_dir)\n"
   ]
  },
  {
   "cell_type": "code",
   "execution_count": 26,
   "metadata": {
    "collapsed": false
   },
   "outputs": [
    {
     "data": {
      "text/plain": [
       "'sess_014.tar.bz2'"
      ]
     },
     "execution_count": 26,
     "metadata": {},
     "output_type": "execute_result"
    }
   ],
   "source": [
    "dest_file"
   ]
  },
  {
   "cell_type": "code",
   "execution_count": 30,
   "metadata": {
    "collapsed": false
   },
   "outputs": [
    {
     "data": {
      "text/plain": [
       "'/servers/dataserver/experiment/raw_data/ZKawakeM72/sess_014.tar.bz2'"
      ]
     },
     "execution_count": 30,
     "metadata": {},
     "output_type": "execute_result"
    }
   ],
   "source": [
    "full_dest_path"
   ]
  },
  {
   "cell_type": "code",
   "execution_count": null,
   "metadata": {
    "collapsed": true
   },
   "outputs": [],
   "source": []
  }
 ],
 "metadata": {
  "kernelspec": {
   "display_name": "Python 2",
   "language": "python",
   "name": "python2"
  },
  "language_info": {
   "codemirror_mode": {
    "name": "ipython",
    "version": 2
   },
   "file_extension": ".py",
   "mimetype": "text/x-python",
   "name": "python",
   "nbconvert_exporter": "python",
   "pygments_lexer": "ipython2",
   "version": "2.7.10"
  }
 },
 "nbformat": 4,
 "nbformat_minor": 0
}
